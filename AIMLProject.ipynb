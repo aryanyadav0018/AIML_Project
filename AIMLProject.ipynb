{
 "cells": [
  {
   "cell_type": "code",
   "execution_count": 2,
   "id": "fff320a9-ec47-4a91-b151-e7c9ab965147",
   "metadata": {},
   "outputs": [],
   "source": [
    "import pandas as pd\n",
    "import matplotlib.pyplot as plt\n",
    "import seaborn as sns\n",
    "from sklearn.preprocessing import LabelEncoder"
   ]
  },
  {
   "cell_type": "code",
   "execution_count": 3,
   "id": "f89308a1-4673-4b95-9ec0-36599656f4b8",
   "metadata": {},
   "outputs": [],
   "source": [
    "dataset = pd.read_csv('cardekho_dataset.csv')"
   ]
  },
  {
   "cell_type": "code",
   "execution_count": 5,
   "id": "4ee75b5d-01b8-4be4-a629-7ebf6c91ee08",
   "metadata": {},
   "outputs": [
    {
     "data": {
      "text/html": [
       "<div>\n",
       "<style scoped>\n",
       "    .dataframe tbody tr th:only-of-type {\n",
       "        vertical-align: middle;\n",
       "    }\n",
       "\n",
       "    .dataframe tbody tr th {\n",
       "        vertical-align: top;\n",
       "    }\n",
       "\n",
       "    .dataframe thead th {\n",
       "        text-align: right;\n",
       "    }\n",
       "</style>\n",
       "<table border=\"1\" class=\"dataframe\">\n",
       "  <thead>\n",
       "    <tr style=\"text-align: right;\">\n",
       "      <th></th>\n",
       "      <th>car_name</th>\n",
       "      <th>vehicle_age</th>\n",
       "      <th>km_driven</th>\n",
       "      <th>seller_type</th>\n",
       "      <th>fuel_type</th>\n",
       "      <th>transmission_type</th>\n",
       "      <th>mileage</th>\n",
       "      <th>engine</th>\n",
       "      <th>max_power</th>\n",
       "      <th>seats</th>\n",
       "      <th>selling_price</th>\n",
       "    </tr>\n",
       "  </thead>\n",
       "  <tbody>\n",
       "    <tr>\n",
       "      <th>0</th>\n",
       "      <td>Maruti Alto</td>\n",
       "      <td>9</td>\n",
       "      <td>120000</td>\n",
       "      <td>Individual</td>\n",
       "      <td>Petrol</td>\n",
       "      <td>Manual</td>\n",
       "      <td>19.70</td>\n",
       "      <td>796</td>\n",
       "      <td>46.30</td>\n",
       "      <td>5</td>\n",
       "      <td>120000</td>\n",
       "    </tr>\n",
       "    <tr>\n",
       "      <th>1</th>\n",
       "      <td>Hyundai Grand</td>\n",
       "      <td>5</td>\n",
       "      <td>20000</td>\n",
       "      <td>Individual</td>\n",
       "      <td>Petrol</td>\n",
       "      <td>Manual</td>\n",
       "      <td>18.90</td>\n",
       "      <td>1197</td>\n",
       "      <td>82.00</td>\n",
       "      <td>5</td>\n",
       "      <td>550000</td>\n",
       "    </tr>\n",
       "    <tr>\n",
       "      <th>2</th>\n",
       "      <td>Hyundai i20</td>\n",
       "      <td>11</td>\n",
       "      <td>60000</td>\n",
       "      <td>Individual</td>\n",
       "      <td>Petrol</td>\n",
       "      <td>Manual</td>\n",
       "      <td>17.00</td>\n",
       "      <td>1197</td>\n",
       "      <td>80.00</td>\n",
       "      <td>5</td>\n",
       "      <td>215000</td>\n",
       "    </tr>\n",
       "    <tr>\n",
       "      <th>3</th>\n",
       "      <td>Maruti Alto</td>\n",
       "      <td>9</td>\n",
       "      <td>37000</td>\n",
       "      <td>Individual</td>\n",
       "      <td>Petrol</td>\n",
       "      <td>Manual</td>\n",
       "      <td>20.92</td>\n",
       "      <td>998</td>\n",
       "      <td>67.10</td>\n",
       "      <td>5</td>\n",
       "      <td>226000</td>\n",
       "    </tr>\n",
       "    <tr>\n",
       "      <th>4</th>\n",
       "      <td>Ford Ecosport</td>\n",
       "      <td>6</td>\n",
       "      <td>30000</td>\n",
       "      <td>Dealer</td>\n",
       "      <td>Diesel</td>\n",
       "      <td>Manual</td>\n",
       "      <td>22.77</td>\n",
       "      <td>1498</td>\n",
       "      <td>98.59</td>\n",
       "      <td>5</td>\n",
       "      <td>570000</td>\n",
       "    </tr>\n",
       "  </tbody>\n",
       "</table>\n",
       "</div>"
      ],
      "text/plain": [
       "        car_name  vehicle_age  km_driven seller_type fuel_type  \\\n",
       "0    Maruti Alto            9     120000  Individual    Petrol   \n",
       "1  Hyundai Grand            5      20000  Individual    Petrol   \n",
       "2    Hyundai i20           11      60000  Individual    Petrol   \n",
       "3    Maruti Alto            9      37000  Individual    Petrol   \n",
       "4  Ford Ecosport            6      30000      Dealer    Diesel   \n",
       "\n",
       "  transmission_type  mileage  engine  max_power  seats  selling_price  \n",
       "0            Manual    19.70     796      46.30      5         120000  \n",
       "1            Manual    18.90    1197      82.00      5         550000  \n",
       "2            Manual    17.00    1197      80.00      5         215000  \n",
       "3            Manual    20.92     998      67.10      5         226000  \n",
       "4            Manual    22.77    1498      98.59      5         570000  "
      ]
     },
     "execution_count": 5,
     "metadata": {},
     "output_type": "execute_result"
    }
   ],
   "source": [
    "dataset.head()"
   ]
  },
  {
   "cell_type": "markdown",
   "id": "c0951130-06cd-446c-b359-3a5a7c21e110",
   "metadata": {},
   "source": [
    "# Data Cleaning"
   ]
  },
  {
   "cell_type": "code",
   "execution_count": 4,
   "id": "fa2f1e37-1870-4af5-bd92-67d3c40d30ae",
   "metadata": {},
   "outputs": [
    {
     "data": {
      "text/plain": [
       "car_name             0\n",
       "vehicle_age          0\n",
       "km_driven            0\n",
       "seller_type          0\n",
       "fuel_type            0\n",
       "transmission_type    0\n",
       "mileage              0\n",
       "engine               0\n",
       "max_power            0\n",
       "seats                0\n",
       "selling_price        0\n",
       "dtype: int64"
      ]
     },
     "execution_count": 4,
     "metadata": {},
     "output_type": "execute_result"
    }
   ],
   "source": [
    "dataset.isnull().sum()"
   ]
  },
  {
   "cell_type": "code",
   "execution_count": 5,
   "id": "d6b8fdaa-4593-4467-b2aa-b538fdcf8c22",
   "metadata": {},
   "outputs": [
    {
     "name": "stdout",
     "output_type": "stream",
     "text": [
      "<class 'pandas.core.frame.DataFrame'>\n",
      "RangeIndex: 15411 entries, 0 to 15410\n",
      "Data columns (total 11 columns):\n",
      " #   Column             Non-Null Count  Dtype  \n",
      "---  ------             --------------  -----  \n",
      " 0   car_name           15411 non-null  object \n",
      " 1   vehicle_age        15411 non-null  int64  \n",
      " 2   km_driven          15411 non-null  int64  \n",
      " 3   seller_type        15411 non-null  object \n",
      " 4   fuel_type          15411 non-null  object \n",
      " 5   transmission_type  15411 non-null  object \n",
      " 6   mileage            15411 non-null  float64\n",
      " 7   engine             15411 non-null  int64  \n",
      " 8   max_power          15411 non-null  float64\n",
      " 9   seats              15411 non-null  int64  \n",
      " 10  selling_price      15411 non-null  int64  \n",
      "dtypes: float64(2), int64(5), object(4)\n",
      "memory usage: 1.3+ MB\n"
     ]
    }
   ],
   "source": [
    "dataset.info()"
   ]
  },
  {
   "cell_type": "markdown",
   "id": "61e89868-ee01-4778-8791-2b60d53d6ff8",
   "metadata": {},
   "source": [
    "# Encoding"
   ]
  },
  {
   "cell_type": "code",
   "execution_count": 6,
   "id": "6cd48226-3eed-4d8a-883d-da92b5e2c82d",
   "metadata": {},
   "outputs": [],
   "source": [
    "car_name_le = LabelEncoder()\n",
    "dataset['car_name'] = car_name_le.fit_transform(dataset['car_name'])"
   ]
  },
  {
   "cell_type": "code",
   "execution_count": 7,
   "id": "1fcbfacc-7545-4dfe-85ab-6990d8e55f2f",
   "metadata": {},
   "outputs": [],
   "source": [
    "seller_type_le = LabelEncoder()\n",
    "dataset['seller_type'] = seller_type_le.fit_transform(dataset['seller_type'])"
   ]
  },
  {
   "cell_type": "code",
   "execution_count": 8,
   "id": "19d53a0c-eaa4-4caa-b3a5-85e06123e12a",
   "metadata": {},
   "outputs": [],
   "source": [
    "transmission_type_le = LabelEncoder()\n",
    "dataset['transmission_type'] = transmission_type_le.fit_transform(dataset['transmission_type'])"
   ]
  },
  {
   "cell_type": "code",
   "execution_count": 9,
   "id": "12527209-373c-4edb-afd9-fdfebd5bc2c3",
   "metadata": {},
   "outputs": [],
   "source": [
    "fuel_type_le = LabelEncoder()\n",
    "dataset['fuel_type'] = fuel_type_le.fit_transform(dataset['fuel_type'])"
   ]
  },
  {
   "cell_type": "code",
   "execution_count": 10,
   "id": "58f9afb9-901a-4ef9-92ea-06ffbacd7b19",
   "metadata": {},
   "outputs": [
    {
     "data": {
      "text/html": [
       "<div>\n",
       "<style scoped>\n",
       "    .dataframe tbody tr th:only-of-type {\n",
       "        vertical-align: middle;\n",
       "    }\n",
       "\n",
       "    .dataframe tbody tr th {\n",
       "        vertical-align: top;\n",
       "    }\n",
       "\n",
       "    .dataframe thead th {\n",
       "        text-align: right;\n",
       "    }\n",
       "</style>\n",
       "<table border=\"1\" class=\"dataframe\">\n",
       "  <thead>\n",
       "    <tr style=\"text-align: right;\">\n",
       "      <th></th>\n",
       "      <th>car_name</th>\n",
       "      <th>vehicle_age</th>\n",
       "      <th>km_driven</th>\n",
       "      <th>seller_type</th>\n",
       "      <th>fuel_type</th>\n",
       "      <th>transmission_type</th>\n",
       "      <th>mileage</th>\n",
       "      <th>engine</th>\n",
       "      <th>max_power</th>\n",
       "      <th>seats</th>\n",
       "      <th>selling_price</th>\n",
       "    </tr>\n",
       "  </thead>\n",
       "  <tbody>\n",
       "    <tr>\n",
       "      <th>0</th>\n",
       "      <td>65</td>\n",
       "      <td>9</td>\n",
       "      <td>120000</td>\n",
       "      <td>1</td>\n",
       "      <td>4</td>\n",
       "      <td>1</td>\n",
       "      <td>19.70</td>\n",
       "      <td>796</td>\n",
       "      <td>46.30</td>\n",
       "      <td>5</td>\n",
       "      <td>120000</td>\n",
       "    </tr>\n",
       "    <tr>\n",
       "      <th>1</th>\n",
       "      <td>34</td>\n",
       "      <td>5</td>\n",
       "      <td>20000</td>\n",
       "      <td>1</td>\n",
       "      <td>4</td>\n",
       "      <td>1</td>\n",
       "      <td>18.90</td>\n",
       "      <td>1197</td>\n",
       "      <td>82.00</td>\n",
       "      <td>5</td>\n",
       "      <td>550000</td>\n",
       "    </tr>\n",
       "    <tr>\n",
       "      <th>2</th>\n",
       "      <td>40</td>\n",
       "      <td>11</td>\n",
       "      <td>60000</td>\n",
       "      <td>1</td>\n",
       "      <td>4</td>\n",
       "      <td>1</td>\n",
       "      <td>17.00</td>\n",
       "      <td>1197</td>\n",
       "      <td>80.00</td>\n",
       "      <td>5</td>\n",
       "      <td>215000</td>\n",
       "    </tr>\n",
       "    <tr>\n",
       "      <th>3</th>\n",
       "      <td>65</td>\n",
       "      <td>9</td>\n",
       "      <td>37000</td>\n",
       "      <td>1</td>\n",
       "      <td>4</td>\n",
       "      <td>1</td>\n",
       "      <td>20.92</td>\n",
       "      <td>998</td>\n",
       "      <td>67.10</td>\n",
       "      <td>5</td>\n",
       "      <td>226000</td>\n",
       "    </tr>\n",
       "    <tr>\n",
       "      <th>4</th>\n",
       "      <td>20</td>\n",
       "      <td>6</td>\n",
       "      <td>30000</td>\n",
       "      <td>0</td>\n",
       "      <td>1</td>\n",
       "      <td>1</td>\n",
       "      <td>22.77</td>\n",
       "      <td>1498</td>\n",
       "      <td>98.59</td>\n",
       "      <td>5</td>\n",
       "      <td>570000</td>\n",
       "    </tr>\n",
       "  </tbody>\n",
       "</table>\n",
       "</div>"
      ],
      "text/plain": [
       "   car_name  vehicle_age  km_driven  seller_type  fuel_type  \\\n",
       "0        65            9     120000            1          4   \n",
       "1        34            5      20000            1          4   \n",
       "2        40           11      60000            1          4   \n",
       "3        65            9      37000            1          4   \n",
       "4        20            6      30000            0          1   \n",
       "\n",
       "   transmission_type  mileage  engine  max_power  seats  selling_price  \n",
       "0                  1    19.70     796      46.30      5         120000  \n",
       "1                  1    18.90    1197      82.00      5         550000  \n",
       "2                  1    17.00    1197      80.00      5         215000  \n",
       "3                  1    20.92     998      67.10      5         226000  \n",
       "4                  1    22.77    1498      98.59      5         570000  "
      ]
     },
     "execution_count": 10,
     "metadata": {},
     "output_type": "execute_result"
    }
   ],
   "source": [
    "dataset.head()"
   ]
  },
  {
   "cell_type": "code",
   "execution_count": 11,
   "id": "30e5e256-956f-45f2-ad32-10f38fa20008",
   "metadata": {},
   "outputs": [],
   "source": [
    "input_data = dataset.iloc[:,:-1]\n",
    "output_data = dataset['selling_price']"
   ]
  },
  {
   "cell_type": "markdown",
   "id": "d2140980-d3b7-4ea0-aa9f-83415c5b2c8e",
   "metadata": {},
   "source": [
    "# Scaling"
   ]
  },
  {
   "cell_type": "code",
   "execution_count": 12,
   "id": "b306eeb3-3dbf-4d07-83d1-f9be8199b20d",
   "metadata": {},
   "outputs": [],
   "source": [
    "from sklearn.preprocessing import StandardScaler"
   ]
  },
  {
   "cell_type": "code",
   "execution_count": 13,
   "id": "63969cc0-9ccb-43c7-a4d9-7dcccee757da",
   "metadata": {},
   "outputs": [],
   "source": [
    "ss = StandardScaler()\n",
    "input_data = pd.DataFrame(ss.fit_transform(input_data), columns = input_data.columns)"
   ]
  },
  {
   "cell_type": "code",
   "execution_count": 14,
   "id": "8728d8aa-f8ee-42f8-abec-0bab82cda510",
   "metadata": {},
   "outputs": [
    {
     "data": {
      "text/html": [
       "<div>\n",
       "<style scoped>\n",
       "    .dataframe tbody tr th:only-of-type {\n",
       "        vertical-align: middle;\n",
       "    }\n",
       "\n",
       "    .dataframe tbody tr th {\n",
       "        vertical-align: top;\n",
       "    }\n",
       "\n",
       "    .dataframe thead th {\n",
       "        text-align: right;\n",
       "    }\n",
       "</style>\n",
       "<table border=\"1\" class=\"dataframe\">\n",
       "  <thead>\n",
       "    <tr style=\"text-align: right;\">\n",
       "      <th></th>\n",
       "      <th>car_name</th>\n",
       "      <th>vehicle_age</th>\n",
       "      <th>km_driven</th>\n",
       "      <th>seller_type</th>\n",
       "      <th>fuel_type</th>\n",
       "      <th>transmission_type</th>\n",
       "      <th>mileage</th>\n",
       "      <th>engine</th>\n",
       "      <th>max_power</th>\n",
       "      <th>seats</th>\n",
       "    </tr>\n",
       "  </thead>\n",
       "  <tbody>\n",
       "    <tr>\n",
       "      <th>0</th>\n",
       "      <td>0.137617</td>\n",
       "      <td>0.983562</td>\n",
       "      <td>1.247335</td>\n",
       "      <td>1.189966</td>\n",
       "      <td>1.001423</td>\n",
       "      <td>0.510503</td>\n",
       "      <td>-0.000276</td>\n",
       "      <td>-1.324259</td>\n",
       "      <td>-1.263352</td>\n",
       "      <td>-0.403022</td>\n",
       "    </tr>\n",
       "    <tr>\n",
       "      <th>1</th>\n",
       "      <td>-0.874864</td>\n",
       "      <td>-0.343933</td>\n",
       "      <td>-0.690016</td>\n",
       "      <td>1.189966</td>\n",
       "      <td>1.001423</td>\n",
       "      <td>0.510503</td>\n",
       "      <td>-0.192071</td>\n",
       "      <td>-0.554718</td>\n",
       "      <td>-0.432571</td>\n",
       "      <td>-0.403022</td>\n",
       "    </tr>\n",
       "    <tr>\n",
       "      <th>2</th>\n",
       "      <td>-0.678900</td>\n",
       "      <td>1.647309</td>\n",
       "      <td>0.084924</td>\n",
       "      <td>1.189966</td>\n",
       "      <td>1.001423</td>\n",
       "      <td>0.510503</td>\n",
       "      <td>-0.647583</td>\n",
       "      <td>-0.554718</td>\n",
       "      <td>-0.479113</td>\n",
       "      <td>-0.403022</td>\n",
       "    </tr>\n",
       "    <tr>\n",
       "      <th>3</th>\n",
       "      <td>0.137617</td>\n",
       "      <td>0.983562</td>\n",
       "      <td>-0.360667</td>\n",
       "      <td>1.189966</td>\n",
       "      <td>1.001423</td>\n",
       "      <td>0.510503</td>\n",
       "      <td>0.292211</td>\n",
       "      <td>-0.936610</td>\n",
       "      <td>-0.779312</td>\n",
       "      <td>-0.403022</td>\n",
       "    </tr>\n",
       "    <tr>\n",
       "      <th>4</th>\n",
       "      <td>-1.332113</td>\n",
       "      <td>-0.012060</td>\n",
       "      <td>-0.496281</td>\n",
       "      <td>-0.768028</td>\n",
       "      <td>-0.967649</td>\n",
       "      <td>0.510503</td>\n",
       "      <td>0.735736</td>\n",
       "      <td>0.022918</td>\n",
       "      <td>-0.046502</td>\n",
       "      <td>-0.403022</td>\n",
       "    </tr>\n",
       "    <tr>\n",
       "      <th>...</th>\n",
       "      <td>...</td>\n",
       "      <td>...</td>\n",
       "      <td>...</td>\n",
       "      <td>...</td>\n",
       "      <td>...</td>\n",
       "      <td>...</td>\n",
       "      <td>...</td>\n",
       "      <td>...</td>\n",
       "      <td>...</td>\n",
       "      <td>...</td>\n",
       "    </tr>\n",
       "    <tr>\n",
       "      <th>15406</th>\n",
       "      <td>-0.711560</td>\n",
       "      <td>0.983562</td>\n",
       "      <td>-0.869744</td>\n",
       "      <td>-0.768028</td>\n",
       "      <td>1.001423</td>\n",
       "      <td>0.510503</td>\n",
       "      <td>0.026096</td>\n",
       "      <td>-0.767733</td>\n",
       "      <td>-0.757204</td>\n",
       "      <td>-0.403022</td>\n",
       "    </tr>\n",
       "    <tr>\n",
       "      <th>15407</th>\n",
       "      <td>0.398903</td>\n",
       "      <td>-1.339555</td>\n",
       "      <td>-0.728763</td>\n",
       "      <td>-0.768028</td>\n",
       "      <td>1.001423</td>\n",
       "      <td>0.510503</td>\n",
       "      <td>-0.527711</td>\n",
       "      <td>-0.216964</td>\n",
       "      <td>-0.220803</td>\n",
       "      <td>2.073444</td>\n",
       "    </tr>\n",
       "    <tr>\n",
       "      <th>15408</th>\n",
       "      <td>1.313402</td>\n",
       "      <td>-0.012060</td>\n",
       "      <td>0.220539</td>\n",
       "      <td>-0.768028</td>\n",
       "      <td>-0.967649</td>\n",
       "      <td>0.510503</td>\n",
       "      <td>0.344954</td>\n",
       "      <td>0.022918</td>\n",
       "      <td>0.068225</td>\n",
       "      <td>-0.403022</td>\n",
       "    </tr>\n",
       "    <tr>\n",
       "      <th>15409</th>\n",
       "      <td>0.104957</td>\n",
       "      <td>-0.343933</td>\n",
       "      <td>72.541850</td>\n",
       "      <td>-0.768028</td>\n",
       "      <td>-0.967649</td>\n",
       "      <td>0.510503</td>\n",
       "      <td>-0.887326</td>\n",
       "      <td>1.329794</td>\n",
       "      <td>0.917158</td>\n",
       "      <td>2.073444</td>\n",
       "    </tr>\n",
       "    <tr>\n",
       "      <th>15410</th>\n",
       "      <td>-1.103489</td>\n",
       "      <td>-1.339555</td>\n",
       "      <td>-0.825631</td>\n",
       "      <td>-0.768028</td>\n",
       "      <td>1.001423</td>\n",
       "      <td>-1.958852</td>\n",
       "      <td>-0.407839</td>\n",
       "      <td>0.020999</td>\n",
       "      <td>0.395884</td>\n",
       "      <td>-0.403022</td>\n",
       "    </tr>\n",
       "  </tbody>\n",
       "</table>\n",
       "<p>15411 rows × 10 columns</p>\n",
       "</div>"
      ],
      "text/plain": [
       "       car_name  vehicle_age  km_driven  seller_type  fuel_type  \\\n",
       "0      0.137617     0.983562   1.247335     1.189966   1.001423   \n",
       "1     -0.874864    -0.343933  -0.690016     1.189966   1.001423   \n",
       "2     -0.678900     1.647309   0.084924     1.189966   1.001423   \n",
       "3      0.137617     0.983562  -0.360667     1.189966   1.001423   \n",
       "4     -1.332113    -0.012060  -0.496281    -0.768028  -0.967649   \n",
       "...         ...          ...        ...          ...        ...   \n",
       "15406 -0.711560     0.983562  -0.869744    -0.768028   1.001423   \n",
       "15407  0.398903    -1.339555  -0.728763    -0.768028   1.001423   \n",
       "15408  1.313402    -0.012060   0.220539    -0.768028  -0.967649   \n",
       "15409  0.104957    -0.343933  72.541850    -0.768028  -0.967649   \n",
       "15410 -1.103489    -1.339555  -0.825631    -0.768028   1.001423   \n",
       "\n",
       "       transmission_type   mileage    engine  max_power     seats  \n",
       "0               0.510503 -0.000276 -1.324259  -1.263352 -0.403022  \n",
       "1               0.510503 -0.192071 -0.554718  -0.432571 -0.403022  \n",
       "2               0.510503 -0.647583 -0.554718  -0.479113 -0.403022  \n",
       "3               0.510503  0.292211 -0.936610  -0.779312 -0.403022  \n",
       "4               0.510503  0.735736  0.022918  -0.046502 -0.403022  \n",
       "...                  ...       ...       ...        ...       ...  \n",
       "15406           0.510503  0.026096 -0.767733  -0.757204 -0.403022  \n",
       "15407           0.510503 -0.527711 -0.216964  -0.220803  2.073444  \n",
       "15408           0.510503  0.344954  0.022918   0.068225 -0.403022  \n",
       "15409           0.510503 -0.887326  1.329794   0.917158  2.073444  \n",
       "15410          -1.958852 -0.407839  0.020999   0.395884 -0.403022  \n",
       "\n",
       "[15411 rows x 10 columns]"
      ]
     },
     "execution_count": 14,
     "metadata": {},
     "output_type": "execute_result"
    }
   ],
   "source": [
    "input_data"
   ]
  },
  {
   "cell_type": "code",
   "execution_count": 15,
   "id": "dafc76f5-bc67-4935-9c61-33bcaea0b7ab",
   "metadata": {},
   "outputs": [
    {
     "data": {
      "image/png": "[encoded data removed]",
      "text/plain": [
       "<Figure size 640x480 with 2 Axes>"
      ]
     },
     "metadata": {},
     "output_type": "display_data"
    }
   ],
   "source": [
    "sns.heatmap(data = dataset.corr(), annot = True)\n",
    "plt.show()"
   ]
  },
  {
   "cell_type": "code",
   "execution_count": 16,
   "id": "8f2f8401-30d2-48e9-94d6-ba47941de2e8",
   "metadata": {},
   "outputs": [
    {
     "data": {
      "image/png": "[encoded data removed]",
      "text/plain": [
       "<Figure size 800x500 with 1 Axes>"
      ]
     },
     "metadata": {},
     "output_type": "display_data"
    }
   ],
   "source": [
    "plt.figure(figsize=(8, 5))\n",
    "sns.histplot(output_data, bins=50, kde=True)\n",
    "plt.title(\"Distribution of Selling Price\")\n",
    "plt.xlabel(\"Selling Price\")\n",
    "plt.ylabel(\"Frequency\")\n",
    "plt.show()\n"
   ]
  },
  {
   "cell_type": "markdown",
   "id": "e494194b-5a17-4db5-bae9-6e302f7dc809",
   "metadata": {},
   "source": [
    "# Train and Test Data"
   ]
  },
  {
   "cell_type": "code",
   "execution_count": 17,
   "id": "6b7ad77d-6313-4366-8114-3b0bb78947bf",
   "metadata": {},
   "outputs": [],
   "source": [
    "import numpy as np\n",
    "output_data_log = np.log1p(output_data)  # Log transformation to reduce skewness"
   ]
  },
  {
   "cell_type": "code",
   "execution_count": null,
   "id": "6df8c067-589b-4544-838c-6254921296b6",
   "metadata": {},
   "outputs": [],
   "source": []
  },
  {
   "cell_type": "code",
   "execution_count": 18,
   "id": "7f4bac61-655f-47c5-baa5-89e8aff83a38",
   "metadata": {},
   "outputs": [],
   "source": [
    "from sklearn.model_selection import train_test_split\n",
    "x_train, x_test, y_train, y_test = train_test_split(input_data, output_data_log, test_size=0.2, random_state=42)"
   ]
  },
  {
   "cell_type": "code",
   "execution_count": 19,
   "id": "c0c8f510-5082-49c4-a399-0f29d050bf93",
   "metadata": {},
   "outputs": [],
   "source": [
    "# x_train, x_test, y_train, y_test = train_test_split(input_data, output_data, test_size = 0.2, random_state = 42)"
   ]
  },
  {
   "cell_type": "code",
   "execution_count": null,
   "id": "484d0097-d428-47c7-86c0-507d3473606c",
   "metadata": {},
   "outputs": [],
   "source": []
  },
  {
   "cell_type": "code",
   "execution_count": 20,
   "id": "8aa38db8-b8a3-4b02-9d5e-fbb4f7ffe3f0",
   "metadata": {},
   "outputs": [],
   "source": [
    "from sklearn.linear_model import LinearRegression\n",
    "from sklearn.tree import DecisionTreeRegressor\n",
    "from sklearn.svm import SVR\n",
    "from sklearn.neighbors import KNeighborsRegressor\n",
    "from sklearn.ensemble import RandomForestRegressor"
   ]
  },
  {
   "cell_type": "code",
   "execution_count": 21,
   "id": "147a5b36-659e-4d71-a987-c366c2483e63",
   "metadata": {},
   "outputs": [],
   "source": [
    "from sklearn.metrics import mean_squared_error, mean_absolute_error"
   ]
  },
  {
   "cell_type": "markdown",
   "id": "e6284c2d-7d68-4011-b5b2-f44ff241d54a",
   "metadata": {},
   "source": [
    "# Linear Regression"
   ]
  },
  {
   "cell_type": "code",
   "execution_count": 22,
   "id": "fc7b35ad-190f-4631-b6a2-61fea84b6ea4",
   "metadata": {},
   "outputs": [
    {
     "data": {
      "text/plain": [
       "(86.55124333404432, 86.31172720238555)"
      ]
     },
     "execution_count": 22,
     "metadata": {},
     "output_type": "execute_result"
    }
   ],
   "source": [
    "lr = LinearRegression()\n",
    "lr.fit(x_train, y_train)\n",
    "lr.score(x_train, y_train)*100, lr.score(x_test, y_test)*100"
   ]
  },
  {
   "cell_type": "code",
   "execution_count": 23,
   "id": "8efb713a-c0d2-4a61-8bea-1b454e67c5ed",
   "metadata": {},
   "outputs": [
    {
     "data": {
      "text/plain": [
       "(0.06839269055320044, 0.199329019346056)"
      ]
     },
     "execution_count": 23,
     "metadata": {},
     "output_type": "execute_result"
    }
   ],
   "source": [
    "mean_squared_error(y_test, lr.predict(x_test)), mean_absolute_error(y_test, lr.predict(x_test))"
   ]
  },
  {
   "cell_type": "markdown",
   "id": "2255ed95-de84-4374-843a-20696f2f4f9b",
   "metadata": {},
   "source": [
    "# Decision Tree"
   ]
  },
  {
   "cell_type": "code",
   "execution_count": 24,
   "id": "138b019d-b39b-4619-8462-5b391e756427",
   "metadata": {},
   "outputs": [
    {
     "data": {
      "text/plain": [
       "(85.6938840084957, 85.02352112402001)"
      ]
     },
     "execution_count": 24,
     "metadata": {},
     "output_type": "execute_result"
    }
   ],
   "source": [
    "dt = DecisionTreeRegressor(max_depth=5, min_samples_split=10, min_samples_leaf=5)\n",
    "dt.fit(x_train, y_train)\n",
    "dt.score(x_train, y_train)*100, dt.score(x_test, y_test)*100"
   ]
  },
  {
   "cell_type": "code",
   "execution_count": 25,
   "id": "90e56401-01cf-47cb-ba9e-0158ee1bb47d",
   "metadata": {},
   "outputs": [
    {
     "data": {
      "text/plain": [
       "(0.07482914027838136, 0.20921580200646817)"
      ]
     },
     "execution_count": 25,
     "metadata": {},
     "output_type": "execute_result"
    }
   ],
   "source": [
    "mean_squared_error(y_test, dt.predict(x_test)), mean_absolute_error(y_test, dt.predict(x_test))"
   ]
  },
  {
   "cell_type": "markdown",
   "id": "56167502-a9a8-47a0-9bc0-89a97347d85f",
   "metadata": {},
   "source": [
    "# Random Forest"
   ]
  },
  {
   "cell_type": "code",
   "execution_count": 26,
   "id": "1771e311-07dc-4ab3-9023-1ca9e236f920",
   "metadata": {},
   "outputs": [
    {
     "data": {
      "text/plain": [
       "(98.87149800918039, 93.341634699202)"
      ]
     },
     "execution_count": 26,
     "metadata": {},
     "output_type": "execute_result"
    }
   ],
   "source": [
    "rf = RandomForestRegressor()\n",
    "rf.fit(x_train, y_train)\n",
    "rf.score(x_train, y_train)*100, rf.score(x_test, y_test)*100"
   ]
  },
  {
   "cell_type": "code",
   "execution_count": 27,
   "id": "771e4a80-1b0e-46f3-b9f0-bee09ccb137a",
   "metadata": {},
   "outputs": [
    {
     "data": {
      "text/plain": [
       "(0.03326815036057782, 0.13202356391859393)"
      ]
     },
     "execution_count": 27,
     "metadata": {},
     "output_type": "execute_result"
    }
   ],
   "source": [
    "mean_squared_error(y_test, rf.predict(x_test)), mean_absolute_error(y_test, rf.predict(x_test))"
   ]
  },
  {
   "cell_type": "markdown",
   "id": "e1b25b2b-68d4-42f1-9363-27bf58ade982",
   "metadata": {},
   "source": [
    "# SVM"
   ]
  },
  {
   "cell_type": "code",
   "execution_count": 28,
   "id": "4df4cbd5-fb7d-45bd-80d8-2b67cb5e8f10",
   "metadata": {},
   "outputs": [
    {
     "data": {
      "text/plain": [
       "(93.33404617285599, 92.53148545684627)"
      ]
     },
     "execution_count": 28,
     "metadata": {},
     "output_type": "execute_result"
    }
   ],
   "source": [
    "sv = SVR()\n",
    "sv.fit(x_train, y_train)\n",
    "sv.score(x_train, y_train)*100, sv.score(x_test, y_test)*100"
   ]
  },
  {
   "cell_type": "code",
   "execution_count": 34,
   "id": "6fd71bb2-da9e-42c8-a960-ee220a1dcd7e",
   "metadata": {},
   "outputs": [
    {
     "data": {
      "text/plain": [
       "(0.037316015803762294, 0.14344982570744463)"
      ]
     },
     "execution_count": 34,
     "metadata": {},
     "output_type": "execute_result"
    }
   ],
   "source": [
    "mean_squared_error(y_test, sv.predict(x_test)), mean_absolute_error(y_test, sv.predict(x_test))"
   ]
  },
  {
   "cell_type": "markdown",
   "id": "673fe802-afd4-4c1f-8b20-037f074c3070",
   "metadata": {},
   "source": [
    "# KNN"
   ]
  },
  {
   "cell_type": "code",
   "execution_count": 29,
   "id": "e7b08ad4-1a2a-424e-8844-f5a3cc3b7a43",
   "metadata": {},
   "outputs": [
    {
     "data": {
      "text/plain": [
       "(94.57433972957926, 91.7680397435594)"
      ]
     },
     "execution_count": 29,
     "metadata": {},
     "output_type": "execute_result"
    }
   ],
   "source": [
    "knn = KNeighborsRegressor()\n",
    "knn.fit(x_train, y_train)\n",
    "knn.score(x_train, y_train)*100, knn.score(x_test, y_test)*100"
   ]
  },
  {
   "cell_type": "code",
   "execution_count": 35,
   "id": "2235c41c-abf1-4470-b3d3-acea4df91cc1",
   "metadata": {},
   "outputs": [
    {
     "data": {
      "text/plain": [
       "(0.04113052967231234, 0.1466294209353047)"
      ]
     },
     "execution_count": 35,
     "metadata": {},
     "output_type": "execute_result"
    }
   ],
   "source": [
    "mean_squared_error(y_test, knn.predict(x_test)), mean_absolute_error(y_test, knn.predict(x_test))"
   ]
  },
  {
   "cell_type": "code",
   "execution_count": null,
   "id": "55f02d2d-05f2-4cef-be3f-7d20e6d95735",
   "metadata": {},
   "outputs": [],
   "source": []
  },
  {
   "cell_type": "markdown",
   "id": "3b003a2b-bbca-4bf7-99a0-d2fe3daff80c",
   "metadata": {},
   "source": [
    "## Choosing Random Forest Regressor Model"
   ]
  },
  {
   "cell_type": "markdown",
   "id": "82d52f4b-8983-4cb0-9eb7-52b3f12459cf",
   "metadata": {},
   "source": [
    "# Predicting Price"
   ]
  },
  {
   "cell_type": "code",
   "execution_count": 1,
   "id": "726a20d8-b4b8-4b29-a730-bc935072ecdf",
   "metadata": {},
   "outputs": [
    {
     "name": "stdout",
     "output_type": "stream",
     "text": [
      "Enter details of the car:\n"
     ]
    },
    {
     "name": "stdin",
     "output_type": "stream",
     "text": [
      "Car Name (as a string, e.g., 'Maruti Swift'):  Hyundai Venue\n",
      "Vehicle Age (in years):  5\n",
      "Kilometers Driven:  40000\n",
      "Seller Type (0: Individual, 1: Dealer):  0\n",
      "Fuel Type (0: Petrol, 1: Diesel, 2: CNG):  0\n",
      "Transmission Type (0: Manual, 1: Automatic):  0\n",
      "Mileage (km/l or km/kg):  17.5\n",
      "Engine (CC):  1190\n",
      "Max Power (BHP):  75\n",
      "Number of Seats:  5\n"
     ]
    },
    {
     "ename": "NameError",
     "evalue": "name 'car_name_le' is not defined",
     "output_type": "error",
     "traceback": [
      "\u001b[1;31m---------------------------------------------------------------------------\u001b[0m",
      "\u001b[1;31mNameError\u001b[0m                                 Traceback (most recent call last)",
      "Cell \u001b[1;32mIn[1], line 38\u001b[0m\n\u001b[0;32m     35\u001b[0m     \u001b[38;5;28mprint\u001b[39m(\u001b[38;5;124mf\u001b[39m\u001b[38;5;124m\"\u001b[39m\u001b[38;5;130;01m\\n\u001b[39;00m\u001b[38;5;124mThe predicted selling price of the car is: ₹\u001b[39m\u001b[38;5;132;01m{\u001b[39;00mpredicted_price[\u001b[38;5;241m0\u001b[39m]\u001b[38;5;132;01m:\u001b[39;00m\u001b[38;5;124m,.2f\u001b[39m\u001b[38;5;132;01m}\u001b[39;00m\u001b[38;5;124m\"\u001b[39m)\n\u001b[0;32m     37\u001b[0m \u001b[38;5;66;03m# Call the function\u001b[39;00m\n\u001b[1;32m---> 38\u001b[0m \u001b[43mpredict_selling_price\u001b[49m\u001b[43m(\u001b[49m\u001b[43m)\u001b[49m\n",
      "Cell \u001b[1;32mIn[1], line 15\u001b[0m, in \u001b[0;36mpredict_selling_price\u001b[1;34m()\u001b[0m\n\u001b[0;32m     12\u001b[0m seats \u001b[38;5;241m=\u001b[39m \u001b[38;5;28mint\u001b[39m(\u001b[38;5;28minput\u001b[39m(\u001b[38;5;124m\"\u001b[39m\u001b[38;5;124mNumber of Seats: \u001b[39m\u001b[38;5;124m\"\u001b[39m))\n\u001b[0;32m     14\u001b[0m \u001b[38;5;66;03m# Encode the car name using the trained LabelEncoder\u001b[39;00m\n\u001b[1;32m---> 15\u001b[0m \u001b[38;5;28;01mif\u001b[39;00m car_name \u001b[38;5;129;01min\u001b[39;00m \u001b[43mcar_name_le\u001b[49m\u001b[38;5;241m.\u001b[39mclasses_:\n\u001b[0;32m     16\u001b[0m     car_name_encoded \u001b[38;5;241m=\u001b[39m car_name_le\u001b[38;5;241m.\u001b[39mtransform([car_name])[\u001b[38;5;241m0\u001b[39m]\n\u001b[0;32m     17\u001b[0m \u001b[38;5;28;01melse\u001b[39;00m:\n",
      "\u001b[1;31mNameError\u001b[0m: name 'car_name_le' is not defined"
     ]
    }
   ],
   "source": [
    "def predict_selling_price():\n",
    "    print(\"Enter details of the car:\")\n",
    "    car_name = input(\"Car Name (as a string, e.g., 'Maruti Swift'): \")\n",
    "    vehicle_age = float(input(\"Vehicle Age (in years): \"))\n",
    "    km_driven = float(input(\"Kilometers Driven: \"))\n",
    "    seller_type = int(input(\"Seller Type (0: Individual, 1: Dealer): \"))\n",
    "    fuel_type = int(input(\"Fuel Type (0: Petrol, 1: Diesel, 2: CNG): \"))\n",
    "    transmission_type = int(input(\"Transmission Type (0: Manual, 1: Automatic): \"))\n",
    "    mileage = float(input(\"Mileage (km/l or km/kg): \"))\n",
    "    engine = float(input(\"Engine (CC): \"))\n",
    "    max_power = float(input(\"Max Power (BHP): \"))\n",
    "    seats = int(input(\"Number of Seats: \"))\n",
    "\n",
    "    # Encode the car name using the trained LabelEncoder\n",
    "    if car_name in car_name_le.classes_:\n",
    "        car_name_encoded = car_name_le.transform([car_name])[0]\n",
    "    else:\n",
    "        print(f\"Error: The car name '{car_name}' is not in the training data.\")\n",
    "        return\n",
    "\n",
    "    # Create a DataFrame for the input\n",
    "    user_data = pd.DataFrame([[\n",
    "        car_name_encoded, vehicle_age, km_driven, seller_type, fuel_type,\n",
    "        transmission_type, mileage, engine, max_power, seats\n",
    "    ]], columns=input_data.columns)\n",
    "\n",
    "    # Preprocess the input data (standardize using the same scaler)\n",
    "    user_data_scaled = ss.transform(user_data)\n",
    "\n",
    "    # Predict the selling price (apply reverse log transformation)\n",
    "    selling_price_log = rf.predict(user_data_scaled)  # Prediction in log scale\n",
    "    predicted_price = np.expm1(selling_price_log)  # Reverse log transformation\n",
    "\n",
    "    # Display the predicted price\n",
    "    print(f\"\\nThe predicted selling price of the car is: ₹{predicted_price[0]:,.2f}\")\n",
    "\n",
    "# Call the function\n",
    "predict_selling_price()\n"
   ]
  },
  {
   "cell_type": "code",
   "execution_count": null,
   "id": "924e425d-83c1-4fd0-92c2-849f33beb1dd",
   "metadata": {},
   "outputs": [],
   "source": []
  }
 ],
 "metadata": {
  "kernelspec": {
   "display_name": "Python 3 (ipykernel)",
   "language": "python",
   "name": "python3"
  },
  "language_info": {
   "codemirror_mode": {
    "name": "ipython",
    "version": 3
   },
   "file_extension": ".py",
   "mimetype": "text/x-python",
   "name": "python",
   "nbconvert_exporter": "python",
   "pygments_lexer": "ipython3",
   "version": "3.11.4"
  }
 },
 "nbformat": 4,
 "nbformat_minor": 5
}
